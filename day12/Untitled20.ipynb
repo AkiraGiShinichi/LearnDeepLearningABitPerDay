{
 "cells": [
  {
   "cell_type": "code",
   "execution_count": 22,
   "metadata": {},
   "outputs": [],
   "source": [
    "%reload_ext autoreload\n",
    "%autoreload 2\n",
    "%matplotlib inline"
   ]
  },
  {
   "cell_type": "markdown",
   "metadata": {},
   "source": [
    "## MNIST data setup"
   ]
  },
  {
   "cell_type": "code",
   "execution_count": 23,
   "metadata": {},
   "outputs": [],
   "source": [
    "from fastai.basics import *"
   ]
  },
  {
   "cell_type": "code",
   "execution_count": 24,
   "metadata": {},
   "outputs": [],
   "source": [
    "from pathlib import Path\n",
    "import requests"
   ]
  },
  {
   "cell_type": "code",
   "execution_count": 25,
   "metadata": {},
   "outputs": [],
   "source": [
    "DATA_PATH = Path(\"data\")\n",
    "PATH = DATA_PATH / \"mnist\"\n",
    "\n",
    "PATH.mkdir(parents=True, exist_ok=True)\n",
    "\n",
    "URL = \"http://deeplearning.net/data/mnist/\"\n",
    "FILENAME = \"mnist.pkl.gz\""
   ]
  },
  {
   "cell_type": "code",
   "execution_count": 26,
   "metadata": {},
   "outputs": [],
   "source": [
    "if not (PATH / FILENAME).exists():\n",
    "    content = requests.get(URL + FILENAME).content\n",
    "    (PATH / FILENAME).open(\"wb\").write(content)"
   ]
  },
  {
   "cell_type": "code",
   "execution_count": 27,
   "metadata": {},
   "outputs": [],
   "source": [
    "import pickle\n",
    "import gzip\n",
    "\n",
    "with gzip.open((PATH / FILENAME).as_posix(), \"rb\") as f:\n",
    "    ((x_train, y_train), (x_valid, y_valid), _) = pickle.load(f, encoding=\"latin-1\")"
   ]
  },
  {
   "cell_type": "code",
   "execution_count": 28,
   "metadata": {},
   "outputs": [
    {
     "name": "stdout",
     "output_type": "stream",
     "text": [
      "(50000, 784)\n"
     ]
    },
    {
     "data": {
      "image/png": "[encoded data removed]",
      "text/plain": [
       "<Figure size 432x288 with 1 Axes>"
      ]
     },
     "metadata": {
      "needs_background": "light"
     },
     "output_type": "display_data"
    }
   ],
   "source": [
    "from matplotlib import pyplot\n",
    "import numpy as np\n",
    "\n",
    "pyplot.imshow(x_train[0].reshape((28, 28)), cmap=\"gray\")\n",
    "print(x_train.shape)"
   ]
  },
  {
   "cell_type": "code",
   "execution_count": 29,
   "metadata": {},
   "outputs": [
    {
     "data": {
      "text/plain": [
       "(tensor([[0., 0., 0.,  ..., 0., 0., 0.],\n",
       "         [0., 0., 0.,  ..., 0., 0., 0.],\n",
       "         [0., 0., 0.,  ..., 0., 0., 0.],\n",
       "         ...,\n",
       "         [0., 0., 0.,  ..., 0., 0., 0.],\n",
       "         [0., 0., 0.,  ..., 0., 0., 0.],\n",
       "         [0., 0., 0.,  ..., 0., 0., 0.]]),\n",
       " torch.Size([50000, 784]),\n",
       " tensor(0),\n",
       " tensor(9))"
      ]
     },
     "execution_count": 29,
     "metadata": {},
     "output_type": "execute_result"
    }
   ],
   "source": [
    "import torch\n",
    "\n",
    "x_train, y_train, x_valid, y_valid = map(torch.tensor, (x_train, y_train, x_valid, y_valid))\n",
    "n, c = x_train.shape\n",
    "x_train, x_train.shape, y_train.min(), y_train.max()"
   ]
  },
  {
   "cell_type": "markdown",
   "metadata": {},
   "source": [
    "## Neural net from scratch (no torch.nn)"
   ]
  },
  {
   "cell_type": "code",
   "execution_count": 30,
   "metadata": {},
   "outputs": [],
   "source": [
    "import math\n",
    "\n",
    "weights = torch.randn(784, 10) / math.sqrt(784)\n",
    "weights.requires_grad_()\n",
    "bias = torch.zeros(10, requires_grad=True)"
   ]
  },
  {
   "cell_type": "code",
   "execution_count": 31,
   "metadata": {},
   "outputs": [],
   "source": [
    "def log_softmax(x): # \n",
    "    return x - x.exp().sum(-1).log().unsqueeze(-1)"
   ]
  },
  {
   "cell_type": "code",
   "execution_count": 32,
   "metadata": {},
   "outputs": [],
   "source": [
    "def model(xb): # y = A*x + B\n",
    "    return log_softmax(xb @ weights + bias) # @ = matmul"
   ]
  },
  {
   "cell_type": "code",
   "execution_count": 33,
   "metadata": {},
   "outputs": [
    {
     "name": "stdout",
     "output_type": "stream",
     "text": [
      "tensor([[0., 0., 0.,  ..., 0., 0., 0.],\n",
      "        [0., 0., 0.,  ..., 0., 0., 0.],\n",
      "        [0., 0., 0.,  ..., 0., 0., 0.],\n",
      "        [0., 0., 0.,  ..., 0., 0., 0.]])\n",
      " -  torch.Size([4, 10])\n",
      "tensor([[-0.2814, -0.5893,  0.2330, -0.3405,  0.3237, -0.1909,  0.2615,  0.1826,\n",
      "         -0.1422, -0.1631],\n",
      "        [-0.2186, -0.3369,  0.6891, -0.5309,  0.6849, -0.1745, -0.1686, -0.0143,\n",
      "         -0.1234, -0.1753],\n",
      "        [ 0.3787, -0.1567,  0.0543,  0.0239,  0.2993,  0.1975,  0.3936,  0.5096,\n",
      "         -0.3119,  0.0871],\n",
      "        [-0.2058, -0.1878, -0.0629,  0.0478,  0.2016, -0.6491,  0.1451, -0.3688,\n",
      "         -0.1421, -0.1653]], grad_fn=<AddBackward0>)\n",
      "tensor([[0.7547, 0.5547, 1.2623, 0.7114, 1.3822, 0.8262, 1.2989, 1.2003, 0.8675,\n",
      "         0.8495],\n",
      "        [0.8036, 0.7139, 1.9919, 0.5881, 1.9836, 0.8399, 0.8448, 0.9858, 0.8839,\n",
      "         0.8392],\n",
      "        [1.4603, 0.8549, 1.0558, 1.0241, 1.3489, 1.2184, 1.4823, 1.6647, 0.7320,\n",
      "         1.0911],\n",
      "        [0.8140, 0.8288, 0.9390, 1.0490, 1.2233, 0.5225, 1.1562, 0.6916, 0.8675,\n",
      "         0.8476]], grad_fn=<ExpBackward>)\n",
      " -  torch.Size([4])\n",
      "tensor([ 9.7078, 10.4748, 11.9326,  8.9395], grad_fn=<SumBackward2>)\n",
      "tensor([2.2729, 2.3490, 2.4793, 2.1905], grad_fn=<LogBackward>)\n",
      " -  torch.Size([4, 1])\n",
      "tensor([[2.2729],\n",
      "        [2.3490],\n",
      "        [2.4793],\n",
      "        [2.1905]], grad_fn=<UnsqueezeBackward0>)\n"
     ]
    }
   ],
   "source": [
    "xb = x_train[0:4]\n",
    "yb_hat = xb @ weights + bias\n",
    "print(xb)\n",
    "print(\" - \", yb_hat.shape)\n",
    "print(yb_hat)\n",
    "print(yb_hat.exp())\n",
    "print(\" - \", yb_hat.exp().sum(-1).shape)\n",
    "print(yb_hat.exp().sum(-1))\n",
    "print(yb_hat.exp().sum(-1).log())\n",
    "\n",
    "print(\" - \", yb_hat.exp().sum(-1).log().unsqueeze(-1).shape)\n",
    "print(yb_hat.exp().sum(-1).log().unsqueeze(-1))\n",
    "# print(yb_hat - yb_hat.exp().sum(-1).log().unsqueeze(-1))"
   ]
  },
  {
   "cell_type": "code",
   "execution_count": 34,
   "metadata": {},
   "outputs": [
    {
     "data": {
      "text/plain": [
       "(tensor([-2.5543, -2.8622, -2.0400, -2.6134, -1.9492, -2.4638, -2.0114, -2.0903,\n",
       "         -2.4151, -2.4360], grad_fn=<SelectBackward>),\n",
       " torch.Size([64, 10]))"
      ]
     },
     "execution_count": 34,
     "metadata": {},
     "output_type": "execute_result"
    }
   ],
   "source": [
    "bs = 64\n",
    "\n",
    "xb = x_train[0:bs]\n",
    "preds = model(xb)\n",
    "preds[0], preds.shape"
   ]
  },
  {
   "cell_type": "code",
   "execution_count": 35,
   "metadata": {},
   "outputs": [],
   "source": [
    "def nll(input, target):\n",
    "    return -input[range(target.shape[0]), target].mean()\n",
    "\n",
    "loss_func = nll"
   ]
  },
  {
   "cell_type": "markdown",
   "metadata": {},
   "source": [
    "![](https://discuss.pytorch.org/uploads/default/original/2X/e/e91db7a4cfd1bce5351a66dbaa7950a4ccc543ac.png)"
   ]
  },
  {
   "cell_type": "code",
   "execution_count": 36,
   "metadata": {},
   "outputs": [
    {
     "name": "stdout",
     "output_type": "stream",
     "text": [
      "tensor([[-0.2814, -0.5893,  0.2330, -0.3405,  0.3237, -0.1909,  0.2615,  0.1826,\n",
      "         -0.1422, -0.1631],\n",
      "        [-0.2186, -0.3369,  0.6891, -0.5309,  0.6849, -0.1745, -0.1686, -0.0143,\n",
      "         -0.1234, -0.1753],\n",
      "        [ 0.3787, -0.1567,  0.0543,  0.0239,  0.2993,  0.1975,  0.3936,  0.5096,\n",
      "         -0.3119,  0.0871],\n",
      "        [-0.2058, -0.1878, -0.0629,  0.0478,  0.2016, -0.6491,  0.1451, -0.3688,\n",
      "         -0.1421, -0.1653]], grad_fn=<AddBackward0>)\n",
      "tensor([5, 0, 4, 1])\n",
      "tensor(0.0745, grad_fn=<NegBackward>)\n"
     ]
    }
   ],
   "source": [
    "yb = y_train[0:4]\n",
    "print(yb_hat)\n",
    "print(yb)\n",
    "print(nll(yb_hat, yb))"
   ]
  },
  {
   "cell_type": "code",
   "execution_count": 37,
   "metadata": {},
   "outputs": [
    {
     "name": "stdout",
     "output_type": "stream",
     "text": [
      "tensor(2.3465, grad_fn=<NegBackward>)\n"
     ]
    }
   ],
   "source": [
    "yb = y_train[0:bs]\n",
    "print(loss_func(preds, yb))"
   ]
  },
  {
   "cell_type": "code",
   "execution_count": 38,
   "metadata": {},
   "outputs": [
    {
     "data": {
      "text/plain": [
       "tensor(0.0312)"
      ]
     },
     "execution_count": 38,
     "metadata": {},
     "output_type": "execute_result"
    }
   ],
   "source": [
    "def accuracy(out, yb):\n",
    "    preds = torch.argmax(out, dim=1)\n",
    "    return (preds==yb).float().mean()\n",
    "\n",
    "accuracy(preds, yb)"
   ]
  },
  {
   "cell_type": "code",
   "execution_count": 39,
   "metadata": {},
   "outputs": [
    {
     "name": "stdout",
     "output_type": "stream",
     "text": [
      "tensor(2.3465, grad_fn=<NegBackward>) tensor(0.0312)\n",
      "tensor(0.3206, grad_fn=<NegBackward>) tensor(0.8906)\n",
      "tensor(0.2962, grad_fn=<NegBackward>) tensor(0.8906)\n",
      "tensor(0.3878, grad_fn=<NegBackward>) tensor(0.9219)\n",
      "tensor(0.2318, grad_fn=<NegBackward>) tensor(0.9062)\n",
      "tensor(0.3829, grad_fn=<NegBackward>) tensor(0.8906)\n",
      "tensor(0.2598, grad_fn=<NegBackward>) tensor(0.8906)\n",
      "tensor(0.3789, grad_fn=<NegBackward>) tensor(0.9062)\n",
      "tensor(0.2786, grad_fn=<NegBackward>) tensor(0.9219)\n",
      "tensor(0.2615, grad_fn=<NegBackward>) tensor(0.9219)\n",
      "tensor(0.1931, grad_fn=<NegBackward>) tensor(0.9062)\n",
      "tensor(0.3439, grad_fn=<NegBackward>) tensor(0.9219)\n",
      "tensor(0.2081, grad_fn=<NegBackward>) tensor(0.9219)\n",
      "tensor(0.3562, grad_fn=<NegBackward>) tensor(0.8906)\n",
      "tensor(0.2243, grad_fn=<NegBackward>) tensor(0.9219)\n",
      "tensor(0.3632, grad_fn=<NegBackward>) tensor(0.8906)\n"
     ]
    }
   ],
   "source": [
    "from IPython.core.debugger import set_trace\n",
    "\n",
    "lr = 0.5\n",
    "epochs = 2\n",
    "\n",
    "for epoch in range(epochs):\n",
    "    for i in range((n-1) // bs + 1):\n",
    "        # set_trace()\n",
    "        start_i = i * bs\n",
    "        end_i = start_i + bs\n",
    "        xb = x_train[start_i:end_i]\n",
    "        yb = y_train[start_i:end_i]\n",
    "        pred = model(xb)\n",
    "        loss = loss_func(pred, yb)\n",
    "        \n",
    "        if (i % 100 == 0):\n",
    "            print(loss_func(model(xb), yb), accuracy(model(xb), yb))\n",
    "        \n",
    "        loss.backward()\n",
    "        with torch.no_grad():\n",
    "            weights -= weights.grad * lr\n",
    "            bias -= bias.grad * lr\n",
    "            weights.grad.zero_()\n",
    "            bias.grad.zero_()"
   ]
  },
  {
   "cell_type": "markdown",
   "metadata": {},
   "source": [
    "## Using torch.nn.functional"
   ]
  },
  {
   "cell_type": "code",
   "execution_count": 40,
   "metadata": {},
   "outputs": [
    {
     "name": "stdout",
     "output_type": "stream",
     "text": [
      "tensor(0.0820, grad_fn=<NllLossBackward>) tensor(1.)\n"
     ]
    }
   ],
   "source": [
    "import torch.nn.functional as F\n",
    "loss_func = F.cross_entropy\n",
    "\n",
    "def model(xb):\n",
    "    return xb @ weights + bias\n",
    "\n",
    "print(loss_func(model(xb), yb), accuracy(model(xb), yb))"
   ]
  },
  {
   "cell_type": "markdown",
   "metadata": {},
   "source": [
    "## Refactor using nn.Module"
   ]
  },
  {
   "cell_type": "code",
   "execution_count": 55,
   "metadata": {},
   "outputs": [],
   "source": [
    "# Define model + weights + bias\n",
    "from torch import nn\n",
    "\n",
    "class MNIST_Logistic(nn.Module):\n",
    "    def __init__(self):\n",
    "        super().__init__()\n",
    "        self.weights = nn.Parameter(torch.randn(784, 10) / math.sqrt(784)) # why this?\n",
    "        self.bias = nn.Parameter(torch.zeros(10))\n",
    "        \n",
    "    def forward(self, xb):\n",
    "        return xb @ self.weights + self.bias\n",
    "        \n",
    "model1 = MNIST_Logistic()"
   ]
  },
  {
   "cell_type": "code",
   "execution_count": 54,
   "metadata": {},
   "outputs": [
    {
     "data": {
      "text/plain": [
       "tensor([[-0.0603, -0.0999, -0.2202, -0.0444,  0.3590, -0.2652, -0.3606,  0.2509,\n",
       "          0.2007,  0.1198],\n",
       "        [-0.4424,  0.0381,  0.4372, -0.6035, -0.1194, -0.0392, -0.1220, -0.2474,\n",
       "          0.6651,  0.8032],\n",
       "        [-0.2665,  0.1499, -0.1397, -0.2633,  0.2971, -0.4682, -0.2537,  0.2613,\n",
       "          0.0707,  0.0073],\n",
       "        [-0.1694, -0.0251, -0.2609, -0.3975,  0.5751, -0.1269,  0.1603,  0.5864,\n",
       "          0.5134,  0.4698],\n",
       "        [-0.4283, -0.1547, -0.0429, -0.4453,  0.7653, -0.0700,  0.0126,  0.4515,\n",
       "          0.1131,  0.2622],\n",
       "        [-0.4621,  0.1753, -0.0023, -0.3432,  0.4091,  0.1297,  0.2102,  0.0234,\n",
       "         -0.0912,  1.2859],\n",
       "        [-0.1730, -0.2817, -0.0484,  0.0912,  0.1999, -0.2484,  0.0902,  0.0379,\n",
       "          0.7126,  0.3181],\n",
       "        [-0.2851,  0.0673,  0.3023, -0.1750,  0.1156,  0.1254,  0.0800, -0.1874,\n",
       "          0.7072,  0.8287],\n",
       "        [-0.1097,  0.0630, -0.5649, -0.0092,  0.9743,  0.0824, -0.1162,  0.1731,\n",
       "          0.0797,  1.0383],\n",
       "        [-0.2876,  0.3998, -0.1471, -0.5049,  0.0760,  0.0370,  0.0268, -0.0029,\n",
       "          0.2931,  0.4970],\n",
       "        [-0.2339, -0.5050, -0.0406,  0.1185,  0.4288, -0.0712,  0.1919, -0.0746,\n",
       "          0.1040,  0.2420],\n",
       "        [-0.3531, -0.3195,  0.1459, -0.2047,  0.0792, -0.2061,  0.0509, -0.4987,\n",
       "          0.8554,  0.6401],\n",
       "        [ 0.0787,  0.0869,  0.0850,  0.0454,  0.5997,  0.0162, -0.0275,  0.1090,\n",
       "         -0.2319,  0.3063],\n",
       "        [-0.1923,  0.4267, -0.3279, -0.4958,  0.4062,  0.0084,  0.4848, -0.0251,\n",
       "          0.3583,  0.3354],\n",
       "        [ 0.1237, -0.4050,  0.3046, -0.2525,  0.5601, -0.5709, -0.1948, -0.0159,\n",
       "          0.0843, -0.0698],\n",
       "        [-0.2214, -0.4736, -0.1274, -0.0096,  0.1309, -0.2823, -0.2741,  0.1329,\n",
       "          0.3641,  0.5712]], grad_fn=<AddBackward0>)"
      ]
     },
     "execution_count": 54,
     "metadata": {},
     "output_type": "execute_result"
    }
   ],
   "source": [
    "# print(xb)\n",
    "# print(loss_func(model(xb), yb))\n",
    "model1.forward(xb)"
   ]
  },
  {
   "cell_type": "markdown",
   "metadata": {},
   "source": [
    "## Refactor using nn.Linear"
   ]
  },
  {
   "cell_type": "code",
   "execution_count": null,
   "metadata": {},
   "outputs": [],
   "source": []
  },
  {
   "cell_type": "markdown",
   "metadata": {},
   "source": [
    "## Refactor using optim"
   ]
  },
  {
   "cell_type": "code",
   "execution_count": null,
   "metadata": {},
   "outputs": [],
   "source": []
  },
  {
   "cell_type": "markdown",
   "metadata": {},
   "source": [
    "## Refactor using Dataset"
   ]
  },
  {
   "cell_type": "markdown",
   "metadata": {},
   "source": [
    "## Refactor using DataLoader"
   ]
  },
  {
   "cell_type": "markdown",
   "metadata": {},
   "source": [
    "## Add validation"
   ]
  },
  {
   "cell_type": "markdown",
   "metadata": {},
   "source": [
    "## Create fit() and get_data()"
   ]
  },
  {
   "cell_type": "markdown",
   "metadata": {},
   "source": [
    "## Switch to CNN"
   ]
  },
  {
   "cell_type": "markdown",
   "metadata": {},
   "source": [
    "## nn.Sequential"
   ]
  },
  {
   "cell_type": "markdown",
   "metadata": {},
   "source": [
    "## Wrapping DataLoader"
   ]
  },
  {
   "cell_type": "markdown",
   "metadata": {},
   "source": [
    "## Using your GPU"
   ]
  },
  {
   "cell_type": "markdown",
   "metadata": {},
   "source": [
    "## Closing thoughts"
   ]
  },
  {
   "cell_type": "code",
   "execution_count": null,
   "metadata": {},
   "outputs": [],
   "source": []
  }
 ],
 "metadata": {
  "kernelspec": {
   "display_name": "Python 3",
   "language": "python",
   "name": "python3"
  },
  "language_info": {
   "codemirror_mode": {
    "name": "ipython",
    "version": 3
   },
   "file_extension": ".py",
   "mimetype": "text/x-python",
   "name": "python",
   "nbconvert_exporter": "python",
   "pygments_lexer": "ipython3",
   "version": "3.6.7"
  }
 },
 "nbformat": 4,
 "nbformat_minor": 4
}
